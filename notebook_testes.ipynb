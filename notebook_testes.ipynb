{
 "cells": [
  {
   "cell_type": "markdown",
   "metadata": {},
   "source": [
    "# Artigo para a Diarização\n",
    "\n",
    "Este código diversas soluções sobre diarização."
   ]
  },
  {
   "cell_type": "markdown",
   "metadata": {},
   "source": [
    "Inicializando com os pacotes e funções que serão utilizadas."
   ]
  },
  {
   "cell_type": "code",
   "execution_count": 111,
   "metadata": {},
   "outputs": [],
   "source": [
    "from dotenv import load_dotenv\n",
    "from moviepy.editor import VideoFileClip\n",
    "from pydub import AudioSegment\n",
    "from openai import OpenAI\n",
    "import os\n",
    "import json\n",
    "import re"
   ]
  },
  {
   "cell_type": "code",
   "execution_count": 108,
   "metadata": {},
   "outputs": [],
   "source": [
    "path = os.path.abspath(\"\")\n",
    "\n",
    "path = path.replace(\"\\\\\", \"/\")"
   ]
  },
  {
   "cell_type": "markdown",
   "metadata": {},
   "source": [
    "Alterar os datasets aqui"
   ]
  },
  {
   "cell_type": "code",
   "execution_count": 101,
   "metadata": {},
   "outputs": [],
   "source": [
    "join = '/dataset/08_oitavo'\n",
    "input_video_path = path + join + '/video.mp4'\n",
    "output_audio_path = path + join + '/audio_new.mp3' "
   ]
  },
  {
   "cell_type": "code",
   "execution_count": 102,
   "metadata": {},
   "outputs": [
    {
     "name": "stdout",
     "output_type": "stream",
     "text": [
      "MoviePy - Writing audio in c:/Users/anton/Videos/boll/boll/diarizacao_artigo/diarizacao/dataset/08_oitavo/audio_new.mp3\n"
     ]
    },
    {
     "name": "stderr",
     "output_type": "stream",
     "text": [
      "                                                                      "
     ]
    },
    {
     "name": "stdout",
     "output_type": "stream",
     "text": [
      "MoviePy - Done.\n"
     ]
    },
    {
     "name": "stderr",
     "output_type": "stream",
     "text": [
      "\r"
     ]
    }
   ],
   "source": [
    "#path_split1 = 'C:/Users/anton/Videos/task2/1_half_audio.mp3'\n",
    "#path_split2 = 'C:/Users/anton/Videos/task2/2_half_audio.mp3'\n",
    "\n",
    "# Lendo o video \n",
    "video_clip = VideoFileClip(input_video_path)\n",
    "\n",
    "# Obtendo a duracao do video\n",
    "video_duration = video_clip.duration\n",
    "\n",
    "# Extraindo o audio para as tarefas\n",
    "audio_clip = video_clip.audio\n",
    "audio_clip.write_audiofile(output_audio_path)"
   ]
  },
  {
   "cell_type": "markdown",
   "metadata": {},
   "source": [
    "# Diarização OpenAI"
   ]
  },
  {
   "cell_type": "markdown",
   "metadata": {},
   "source": [
    "## Funções e Pacotes"
   ]
  },
  {
   "cell_type": "code",
   "execution_count": 7,
   "metadata": {},
   "outputs": [],
   "source": [
    "load_dotenv()\n",
    "\n",
    "# Funcao para a trascricao usando Whisper\n",
    "class OpenAIWhisper():\n",
    "    def __init__(self):\n",
    "        self.client = OpenAI(api_key=os.environ.get('OPENAI_KEY'))\n",
    "\n",
    "    def get_completion_whisper(self, audio_file):\n",
    "        transcription = self.client.audio.transcriptions.create(\n",
    "                                model=\"whisper-1\",\n",
    "                                file=audio_file,\n",
    "                            )\n",
    "        return transcription\n",
    "\n",
    "\n",
    "# Funcao para refinar o texto da transcricao \n",
    "class OpenAICorrector():\n",
    "    def __init__(self):\n",
    "        self.client = OpenAI(api_key=os.environ.get('OPENAI_KEY'))\n",
    "\n",
    "    def get_corrected_transcript(self, system_prompt, content):\n",
    "        response = self.client.chat.completions.create(\n",
    "            model=\"gpt-4o\",\n",
    "            temperature=0,\n",
    "            messages=[\n",
    "                {\n",
    "                    \"role\": \"system\",\n",
    "                    \"content\": system_prompt\n",
    "                },\n",
    "                {\n",
    "                    \"role\": \"user\",\n",
    "                    \"content\": content\n",
    "                }\n",
    "            ]\n",
    "        )\n",
    "        return response.choices[0].message.content\n",
    "\n",
    "# Funcao para diarizacao\n",
    "class OpenAIDiarization():\n",
    "    def __init__(self):\n",
    "        self.client = OpenAI(api_key=os.environ.get('OPENAI_KEY'))\n",
    "\n",
    "    def get_completion_diarization(self, prompt_given):\n",
    "        messages = [{\"role\": \"user\", \"content\": prompt_given}]\n",
    "        response = self.client.chat.completions.create(\n",
    "            model=\"gpt-4o\",\n",
    "            messages=messages,\n",
    "            temperature=1\n",
    "        )\n",
    "        return response.choices[0].message.content\n",
    "    \n",
    "# Funcao para a diarizacao do texto fragmentado\n",
    "class OpenAIDiarization2():\n",
    "    def __init__(self):\n",
    "        self.client = OpenAI(api_key=os.environ.get('OPENAI_KEY'))\n",
    "\n",
    "    def get_completion_diarization(self, prompt_given):\n",
    "        prompt = prompt_given \n",
    "        messages = [{\"role\": \"user\", \"content\": prompt}]\n",
    "        response = self.client.chat.completions.create(\n",
    "            model=\"gpt-4o\",\n",
    "            messages=messages,\n",
    "            temperature=1\n",
    "        )\n",
    "        return response.choices[0].message.content\n",
    "    \n",
    "# Chamando todas as funcoes definidas acima\n",
    "openaiWhisper = OpenAIWhisper()\n",
    "openaiCorrector = OpenAICorrector()\n",
    "openaiDiarization = OpenAIDiarization()\n",
    "openaiDiarization2 = OpenAIDiarization2()"
   ]
  },
  {
   "cell_type": "markdown",
   "metadata": {},
   "source": [
    "## Diarização"
   ]
  },
  {
   "cell_type": "code",
   "execution_count": 54,
   "metadata": {},
   "outputs": [
    {
     "name": "stdout",
     "output_type": "stream",
     "text": [
      "não contam com o consenso dessa casa. Quanto nós ainda precisamos evoluir como seres humanos para entender, compreender a história universal, para saber que o que aconteceu durante a 2ª Guerra Mundial sobre o nazismo jamais pode se repetir no mundo e muito menos pode ser relativizado como foi pelo presidente Lula nessa última manifestação sua. É por isso que mais de 120 deputados federais já assinaram o pedido de impeachment que estará depois protocolado para a despache da presidência dessa casa e nós incluímos também uma denúncia à Procuradoria Geral da República contra Lula por racismo e antissemitismo. Chega de tolerar aquilo que não se pode tolerar. Vale para este projeto de lei, vale também para as manifestações absurdas de Lula. Para discutir a favor, deputada Laura Carneiro. Como eu estou escrita para encaminhar, eu abro mão da discussão. Deputado Cabo Gilberto, para discutir a matéria. Eu faço só o lembrete aos senhores e senhoras deputados que nós estamos em discussão da matéria, portanto as falas têm que ser restritas à discussão do projeto inteiro. Estou aqui para cumprir o regimento integralmente, seu presidente. Senhores parlamentares, vejam como a legislação brasileira caduca. Em pleno século XXI, ano de 2024, agora que estamos, senhores parlamentares, população brasileira, colocando na nossa legislação uma proteção direta às nossas crianças. A grande maioria aqui dos senhores e das senhoras são pais e irmãs de família. Imaginem as nossas crianças quando estiverem nas escolas serem molestadas por pedófilos, por sem-vergonhas, pessoas psicopatas, as nossas crianças indefesas. Daí, seu presidente, repito e insisto, que eu venho falando aqui nessa tribuna por diversas vezes, precisamos atualizar a nossa legislação urgentemente. A população nos cobra. O poder legislativo é o mais acessível à sociedade brasileira. Quando estamos nas nossas bases, quando estamos nos aeroportos, a população nos cobra e cobra muito. Diferentemente do atual presidente, o descondenado Lula, dificilmente a população vai cobrá-lo, até porque onde ele chega ninguém quer recepcioná-lo. Diferentemente do poder judiciário, que para chegar perto de um ministro, nem deputados federais conseguem, quanto mais a população para sentir o calor das ruas e o povo cobrando essa atualização. Está mais do que na hora, senhores parlamentares, e eu tenho certeza absoluta que a votação será unânime, e exigimos que as pessoas façam, entreguem todo o seu histórico para que possam ser contratadas. Até hoje não tinha isso, senhores parlamentares. Vem pedófilos, são contratados, porque não tinha essa atualização na legislação. Então, mais do que na hora, já é tarde demais.\n",
      "Transcrição: Não contam com o consenso desta casa. Quanto ainda precisamos evoluir como seres humanos para entender e compreender a história universal, para saber que o que aconteceu durante a 2ª Guerra Mundial com o nazismo jamais pode se repetir no mundo e muito menos pode ser relativizado, como foi pelo presidente Lula em sua última manifestação. É por isso que mais de 120 deputados federais já assinaram o pedido de impeachment, que será protocolado para despacho da presidência desta casa, e incluímos também uma denúncia à Procuradoria Geral da República contra Lula por racismo e antissemitismo. Chega de tolerar aquilo que não se pode tolerar. Vale para este projeto de lei, vale também para as manifestações absurdas de Lula. Para discutir a favor, deputada Laura Carneiro. Como estou inscrita para encaminhar, abro mão da discussão. Deputado Cabo Gilberto, para discutir a matéria. Faço apenas o lembrete aos senhores e senhoras deputados que estamos em discussão da matéria, portanto, as falas devem ser restritas à discussão do projeto inteiro. Estou aqui para cumprir o regimento integralmente, senhor presidente. Senhores parlamentares, vejam como a legislação brasileira está desatualizada. Em pleno século XXI, ano de 2024, agora que estamos, senhores parlamentares, população brasileira, colocando na nossa legislação uma proteção direta às nossas crianças. A grande maioria aqui dos senhores e das senhoras são pais e mães de família. Imaginem as nossas crianças quando estiverem nas escolas sendo molestadas por pedófilos, por sem-vergonhas, pessoas psicopatas, nossas crianças indefesas. Daí, senhor presidente, repito e insisto, que venho falando aqui nesta tribuna por diversas vezes: precisamos atualizar nossa legislação urgentemente. A população nos cobra. O poder legislativo é o mais acessível à sociedade brasileira. Quando estamos nas nossas bases, quando estamos nos aeroportos, a população nos cobra e cobra muito. Diferentemente do atual presidente, o descondenado Lula, dificilmente a população vai cobrá-lo, até porque onde ele chega ninguém quer recepcioná-lo. Diferentemente do poder judiciário, que para chegar perto de um ministro, nem deputados federais conseguem, quanto mais a população para sentir o calor das ruas e o povo cobrando essa atualização. Está mais do que na hora, senhores parlamentares, e tenho certeza absoluta que a votação será unânime, e exigimos que as pessoas apresentem todo o seu histórico para que possam ser contratadas. Até hoje não havia isso, senhores parlamentares. Vêm pedófilos, são contratados, porque não havia essa atualização na legislação. Então, mais do que na hora, já é tarde demais.\n",
      "Diarização: ``` \n",
      "Orador 1 : Não contam com o consenso desta casa. / \n",
      "Orador 1 : Quanto ainda precisamos evoluir como seres humanos para entender e compreender a história universal, para saber que o que aconteceu durante a 2ª Guerra Mundial com o nazismo jamais pode se repetir no mundo e muito menos pode ser relativizado, como foi pelo presidente Lula em sua última manifestação. / \n",
      "Orador 1 : É por isso que mais de 120 deputados federais já assinaram o pedido de impeachment, que será protocolado para despacho da presidência desta casa, e incluímos também uma denúncia à Procuradoria Geral da República contra Lula por racismo e antissemitismo. / \n",
      "Orador 1 : Chega de tolerar aquilo que não se pode tolerar. Vale para este projeto de lei, vale também para as manifestações absurdas de Lula. / \n",
      "Orador 2 : Para discutir a favor, deputada Laura Carneiro. / \n",
      "Orador 3 : Como estou inscrita para encaminhar, abro mão da discussão. / \n",
      "Orador 2 : Deputado Cabo Gilberto, para discutir a matéria. / \n",
      "Orador 2 : Faço apenas o lembrete aos senhores e senhoras deputados que estamos em discussão da matéria, portanto, as falas devem ser restritas à discussão do projeto inteiro. / \n",
      "Orador 4 : Estou aqui para cumprir o regimento integralmente, senhor presidente. / \n",
      "Orador 4 : Senhores parlamentares, vejam como a legislação brasileira está desatualizada. Em pleno século XXI, ano de 2024, agora que estamos, senhores parlamentares, população brasileira, colocando na nossa legislação uma proteção direta às nossas crianças. / \n",
      "Orador 4 : A grande maioria aqui dos senhores e das senhoras são pais e mães de família. Imaginem as nossas crianças quando estiverem nas escolas sendo molestadas por pedófilos, por sem-vergonhas, pessoas psicopatas, nossas crianças indefesas. / \n",
      "Orador 4 : Daí, senhor presidente, repito e insisto, que venho falando aqui nesta tribuna por diversas vezes: precisamos atualizar nossa legislação urgentemente. / \n",
      "Orador 4 : A população nos cobra. O poder legislativo é o mais acessível à sociedade brasileira. Quando estamos nas nossas bases, quando estamos nos aeroportos, a população nos cobra e cobra muito. / \n",
      "Orador 4 : Diferentemente do atual presidente, o descondenado Lula, dificilmente a população vai cobrá-lo, até porque onde ele chega ninguém quer recepcioná-lo. / \n",
      "Orador 4 : Diferentemente do poder judiciário, que para chegar perto de um ministro, nem deputados federais conseguem, quanto mais a população para sentir o calor das ruas e o povo cobrando essa atualização. / \n",
      "Orador 4 : Está mais do que na hora, senhores parlamentares, e tenho certeza absoluta que a votação será unânime, e exigimos que as pessoas apresentem todo o seu histórico para que possam ser contratadas. / \n",
      "Orador 4 : Até hoje não havia isso, senhores parlamentares. Vêm pedófilos, são contratados, porque não havia essa atualização na legislação. / \n",
      "Orador 4 : Então, mais do que na hora, já é tarde demais. / \n",
      "```\n"
     ]
    }
   ],
   "source": [
    "# Questao da transcricao\n",
    "# Abrindo o arquivo e chamando a funcao de transcricao\n",
    "with open(output_audio_path, \"rb\") as audio_file:\n",
    "    transcription = openaiWhisper.get_completion_whisper(audio_file=audio_file)\n",
    "print(transcription.text)\n",
    "# Obtendo o prompt para refinar o texto e chamando a funcao\n",
    "prompt = f\"\"\"\n",
    "Você é um taquígrafo de uma sessão na câmara dos deputados. / \n",
    "Sua tarefa é refinar o texto de uma transcrição de audio. / \n",
    "Essa transcrição consiste de um tribunal de justiça,\n",
    "que possuí como objetivo a discussão e deliberação do Poder Legislativo \n",
    "sobre a elaboração de leis, a fiscalização dos atos do Governo e \n",
    "ainda sobre as manifestações das diversas opiniões e posições partidárias e da sociedade. / \n",
    "Apenas retorne o texto refinado, sem nenhuma divisão por orador ou algo do tipo. / \n",
    "Arrume palavras que parecem estranhas, não mude a transcrição em si. / \n",
    "Se há um erro de português, tente corrigi-lo. / \n",
    "Se há uma palavra muito estranha colocada na frase, troque-a.\n",
    "\"\"\"\n",
    "content = openaiCorrector.get_corrected_transcript(system_prompt=prompt, content=transcription.text)\n",
    "\n",
    "# Questao da diarizacao\n",
    "\n",
    "# Exemplo da diarizacao\n",
    "example = f\"\"\"\n",
    "Orador 1 (Presidente) : Boa tarde! / \n",
    "Orador 1 (Presidente) : Esta sessão está sendo gravada. / \n",
    "Orador 2 (Deputado) : Boa tarde a todos os presentes. / \n",
    "Orador 1 (Presidente) : Vamos começar com a discussão do projeto de lei número 123/2024. / \n",
    "Orador 3 (Deputado) : Senhor Presidente, solicito a palavra. / \n",
    "Orador 1 (Presidente) : Com a palavra o Deputado João. / \n",
    "Orador 3 (Deputado) : Agradeço, senhor Presidente. Venho aqui defender a importância deste projeto para nossa comunidade. / \n",
    "Orador 4 (Deputada) : Senhor Presidente, peço a palavra em aparte. / \n",
    "Orador 1 (Presidente) : Com a palavra a Deputada Maria. / \n",
    "Orador 4 (Deputada) : Gostaria de acrescentar que esse projeto é de extrema urgência para os nossos cidadãos. / \n",
    "Orador 1 (Presidente) : Obrigado pelos seus comentários. / \n",
    "Orador 5 (Deputado) : Senhor Presidente, solicito a palavra para uma questão de ordem. / \n",
    "Orador 1 (Presidente) : Pois não, Deputado Pedro. / \n",
    "Orador 5 (Deputado) : Sugiro que adiemos a votação deste projeto para podermos analisar melhor suas implicações. / \n",
    "Orador 1 (Presidente) : Vou considerar sua sugestão, Deputado. / \n",
    "Orador 1 (Presidente) : Mais algum deputado deseja se manifestar antes de prosseguirmos? / \n",
    "Orador 6 (Deputado) : Eu, senhor Presidente. / \n",
    "Orador 1 (Presidente) : Com a palavra o Deputado Carlos. / \n",
    "Orador 6 (Deputado) : Peço a palavra para destacar os pontos positivos deste projeto. / \n",
    "Orador 1 (Presidente) : Muito bem, Deputado Carlos. / \n",
    "Orador 1 (Presidente) : Se não houver mais inscrições para falar, vamos encerrar esta discussão e proceder à votação. / \n",
    "Orador 1 (Presidente) : A votação está aberta. / \n",
    "Orador 1 (Presidente) : Vou encerrar a sessão.\n",
    "\"\"\"\n",
    "\n",
    "prompt = f\"\"\"\n",
    "Você é um taquígrafo de uma sessão na câmara dos deputados. / \n",
    "Sua tarefa é identificar o orador a partir de um texto transcrito. / \n",
    "Dado a transcrição delimitada por ```, entenda cada frase inteira e tente atribui-la a uma pessoa. / \n",
    "Gere cada trecho do texto com seu determinado rótulo para cada pessoa. / \n",
    "Normalmente, diversas pessoas participam de cada techo de sessão. / \n",
    "Deles, normalmente há a pessoa que é o presidente e os diversos deputados. / \n",
    "Você irá receber as instruções dos presidentes e dos deputados. / \n",
    "\n",
    "Presidente:\n",
    "O papel do presidente é conduzir a sessão, isto é, chamar os deputados para falar,\n",
    "enquanto que dos outros deputados é de discutir e deliberar sobre as leis. /\n",
    "Quem vota não é o presidente, mas sim os deputados. /\n",
    "Assim, o presidente normalmente é aquele que chama os deputados. /\n",
    "Ele também pergunta aos partidos leis e afins, além de dar comunicados do plenário./\n",
    "O presidente chama os partidos, da ordens e informa sobre a sessão. Ele também\n",
    "fala de assuntos relacionados à sessão, como comunicados, ordens e fala sobre votos. /\n",
    "Quem fala de características do plenário, como discussões, votos, características da sessão e qualquer coisa relacionada é o presidente. /\n",
    "O presidente fala dos deputados e deputadas. Ele comunica parabenizações e premiações. /\n",
    "O presidente é quem comenta, em grande parte das vezes, dos Deputados. / \n",
    "O presidente indica os votos da sessão. Dessa forma, ele indica se os votos são \"Sim\" ou \"Não\". /\n",
    "\n",
    "Deputados:\n",
    "Deputados, as vezes, vão se atravessar e falar fora da ordem. Dessa forma,\n",
    "é importante que você consiga identificar quem é quem. /\n",
    "Quem comenta em nome de algum partido ou bloco é sempre o deputado, nunca o presidente. /\n",
    "Dessa forma, se alguém fala \"Bloco do PSD, o voto é não\" provavelmente é um deputado. /\n",
    "Os Blocos e Partidos são: Governo, Maioria, Oposição, Minoria, UNIÃO, PP, PSD, MDB, REPUBLICANOS, /\n",
    "PDT, PSDB, PODE, AVANTE, SOLIDARIEDADE e PRD. /\n",
    "Quando alguem comenta \"Presidente\", provavelmente está se referindo ao presidente da sessão e não é a pessoa que conduz a sessão. /\n",
    "Normalmente, quando um deputado fala e já trocaram de partido, ele não irá mais falar. /\n",
    "O deputado realmente não irá mais falar se agradeceu pelo seu tempo ou algo nesse sentido. /\n",
    "Dessa forma, algum orador que já foi classificado provavelmente não falará novamente após o presidente chamar outro partido. /\n",
    "Normalmente, algum deputado que agradece, ou \"encerra seu discurso\" não falará mais. /\n",
    "Partidos diferentes não irão ser representados por pessoas diferentes. /\n",
    "Existem representantes diferentes de partidos semelhantes. Assim, dois deputados podem representar o mesmo partido ou bloco. /\n",
    "Se há duas vezes uma resposta do mesmo partido ou bloco, são pessoas diferentes. /\n",
    "\n",
    "Conclusão:\n",
    "Quem faz comunicados é o presidente. Pense em todos tipos de comunicado, como informativos, lembranças, indicações. /\n",
    "Busque entender o texto e identificar perguntas e respostas, que normalmente são respondidas por pessoas diferentes. / \n",
    "Busque palavras que concluam a frase de alguém, como agradecimentos. Após isso, a mesma pessoa provavelmente não irá mais falar. /\n",
    "Nem sempre será o presidente que irá comunicar algo. Se alguém começa a falar, essa pessoa provavelmente irá continuar com seu discurso. /\n",
    "Duas pessoas diferentes podem representar o mesmo partido ou bloco. /\n",
    "Quem pede para complementar algo é sempre uma pessoa diferente. /\n",
    "Esse texto está organizado por tempo, então classifique desde a primeira frase em ordem linear. / \n",
    "Retorne apenas o texto com cada um dos oradores. / \n",
    "Retorne o texto completo dividido por oradores. / \n",
    "Não tente inventar pessoas dentro do espaço. Pense em como seria a conversa e faça a identificação. / \n",
    "Retorne apenas o texto com a identificação de orador, sem nenhuma outra frase ou comentário. / \n",
    "Retorne apenas, por exemplo, 'Orador 1', 'Orador 2', etc. /\n",
    "Não retorne o cargo, apenas o número do orador. / \n",
    "Se baseie no exemplo que será disponibilizado por ```.\n",
    "Exemplo: ```{example}```\n",
    "Transcrição: ```{content}```\n",
    "\"\"\"\n",
    "\n",
    "# Chamando a diarizacao\n",
    "response = openaiDiarization.get_completion_diarization(prompt_given = prompt)\n",
    "\n",
    "# Juntando em um json\n",
    "transcription_dict = {\n",
    "    'transcription (2.2)': content,#.strip(),\n",
    "    'diarization (2.3)': response#.strip()\n",
    "}\n",
    "transcription_json = json.dumps(transcription_dict, ensure_ascii=False, indent=2)\n",
    "\n",
    "# Retornando a resposta da transcricao\n",
    "transcriptions = json.loads(transcription_json)\n",
    "# Acessando as transcricoes\n",
    "transcription = transcriptions[\"transcription (2.2)\"]\n",
    "print(\"Transcrição:\", transcription)\n",
    "\n",
    "# Retornando a resposta da diarizacao\n",
    "diarization = json.loads(transcription_json)\n",
    "# Acessando a diarizacao\n",
    "diarization = diarization[\"diarization (2.3)\"]\n",
    "print(\"Diarização:\", diarization)"
   ]
  },
  {
   "cell_type": "markdown",
   "metadata": {},
   "source": [
    "## Ajustando a Transcrição - Sentença"
   ]
  },
  {
   "cell_type": "code",
   "execution_count": 168,
   "metadata": {},
   "outputs": [],
   "source": [
    "transcricao_real = open(path + join + \"/transcricao_real.txt\", \"r\", encoding=\"utf8\").read()\n",
    "resultado = open(path + join + \"/resultado.txt\", \"r\", encoding=\"utf8\").read()"
   ]
  },
  {
   "cell_type": "code",
   "execution_count": 169,
   "metadata": {},
   "outputs": [
    {
     "name": "stdout",
     "output_type": "stream",
     "text": [
      "      orador                                           sentenca\n",
      "0   Orador 2  Parlamento, a nossa casa e Vossa Excelência qu...\n",
      "1   Orador 2                  Muito obrigada pela participação.\n",
      "2   Orador 1  Deputada Antônia, eu quero parabenizar os visi...\n",
      "3   Orador 1  Deputado, Vossa Excelência pode formular a que...\n",
      "4   Orador 3  Baseado na resolução 19 de 2021, artigo 4, Sr....\n",
      "5   Orador 3  Olha, não sei, Vossa Excelência é uma pessoa g...\n",
      "6   Orador 3  Eu quero até fazer aqui uma homenagem a Vossa ...\n",
      "7   Orador 3  Portanto, a Vossa Excelência, deputado Gilbert...\n",
      "8   Orador 3  Vossa Excelência tem conduzido muito bem as qu...\n",
      "9   Orador 3  Eu quero dizer a Vossa Excelência que, indepen...\n",
      "10  Orador 3  Eu sou muito rápido em me inscrever, às vezes ...\n",
      "11  Orador 3  Às vezes eu fico em 15º, 20º, às vezes eu não ...\n",
      "12  Orador 3  Porém, hoje, Gustavo Gayer, deputado, estava n...\n",
      "13  Orador 3     Aconteceu hoje algo diferente dos outros dias?\n",
      "14  Orador 3                         Não há questão sobre isso.\n",
      "15  Orador 3              A assessoria do novo não foi avisada.\n",
      "16  Orador 3  Há um acordo em que a Secretaria-Geral da Mesa...\n",
      "17  Orador 3  O regimento diz, por meio da resolução aprovad...\n",
      "18  Orador 3  Isso já não tem acontecido há tempo e nós temo...\n",
      "19  Orador 3  Agora, hoje, saiu a ordem do dia, quem soube, ...\n",
      "20  Orador 3  E para piorar, Sr. Presidente, para concluir m...\n",
      "21  Orador 3  Estávamos em reunião de pauta e se Vossa Excel...\n",
      "22  Orador 3  Estávamos em reunião de pauta na liderança do ...\n",
      "23  Orador 3  E durante a reunião de pauta anunciaram ordem ...\n",
      "24  Orador 3  Cheguei com os bofes de fora, como se diz aqui...\n",
      "25  Orador 3  Peço a Vossa Excelência, com a afabilidade, ge...\n"
     ]
    }
   ],
   "source": [
    "sentencas = transcricao_real.split(\" / \")\n",
    "\n",
    "# Inicializar listas para os oradores e as sentenças\n",
    "oradores = []\n",
    "frases = []\n",
    "\n",
    "# Expressão regular para dividir as frases\n",
    "import re\n",
    "regex = re.compile(r'(?<!\\w\\.\\w.)(?<![A-Z][a-z]\\.)(?<=\\.|\\?|!)\\s')\n",
    "\n",
    "# Processar cada sentença\n",
    "for sentenca in sentencas:\n",
    "    if \": \" in sentenca:\n",
    "        orador, texto = sentenca.split(\": \", 1)\n",
    "        # Dividir as frases pelo ponto final, exclamação ou interrogação\n",
    "        frases_texto = regex.split(texto)\n",
    "        for frase in frases_texto:\n",
    "            frase = frase.strip()\n",
    "            if frase:\n",
    "                oradores.append(orador.strip())\n",
    "                frases.append(frase)\n",
    "\n",
    "# Criar o DataFrame\n",
    "import pandas as pd\n",
    "treal = pd.DataFrame({\n",
    "    'orador': oradores,\n",
    "    'sentenca': frases\n",
    "})\n",
    "\n",
    "# Exibir o DataFrame\n",
    "print(treal)"
   ]
  },
  {
   "cell_type": "code",
   "execution_count": 170,
   "metadata": {},
   "outputs": [
    {
     "name": "stdout",
     "output_type": "stream",
     "text": [
      "      orador                                           sentenca\n",
      "0   Orador 2  Parlamento, a nossa casa e Vossa Excelência qu...\n",
      "1   Orador 2                  Muito obrigada pela participação.\n",
      "2   Orador 1  Deputada Antônia, eu quero parabenizar os visi...\n",
      "3   Orador 1  Deputado, Vossa Excelência pode formular a que...\n",
      "4   Orador 3  Baseado na resolução 19 de 2021, artigo 4, Sr....\n",
      "5   Orador 3  Olha, não sei, Vossa Excelência é uma pessoa g...\n",
      "6   Orador 3  Eu quero até fazer aqui uma homenagem a Vossa ...\n",
      "7   Orador 3  Portanto, a Vossa Excelência, deputado Gilbert...\n",
      "8   Orador 3  Vossa Excelência tem conduzido muito bem as qu...\n",
      "9   Orador 3  Eu quero dizer a Vossa Excelência que, indepen...\n",
      "10  Orador 3  Eu sou muito rápido em me inscrever, às vezes ...\n",
      "11  Orador 3  Às vezes eu fico em 15º, 20º, às vezes eu não ...\n",
      "12  Orador 3  Porém, hoje, Gustavo Gayer, deputado, estava n...\n",
      "13  Orador 3     Aconteceu hoje algo diferente dos outros dias?\n",
      "14  Orador 3                         Não há questão sobre isso.\n",
      "15  Orador 3              A assessoria do novo não foi avisada.\n",
      "16  Orador 3  Há um acordo em que a Secretaria-Geral da Mesa...\n",
      "17  Orador 3  O regimento diz, por meio da resolução aprovad...\n",
      "18  Orador 3  Isso já não tem acontecido há tempo e nós temo...\n",
      "19  Orador 3  Agora, hoje, saiu a ordem do dia, quem soube, ...\n",
      "20  Orador 3  E para piorar, Sr. Presidente, para concluir m...\n",
      "21  Orador 3  Estávamos em reunião de pauta e se Vossa Excel...\n",
      "22  Orador 3  Estávamos em reunião de pauta na liderança do ...\n",
      "23  Orador 3  E durante a reunião de pauta anunciaram ordem ...\n",
      "24  Orador 3  Cheguei com os bofes de fora, como se diz aqui...\n",
      "25  Orador 3  Peço a Vossa Excelência, com a afabilidade, ge...\n"
     ]
    }
   ],
   "source": [
    "sentencas = resultado.split(\" / \")\n",
    "\n",
    "# Inicializar listas para os oradores e as sentenças\n",
    "oradores = []\n",
    "frases = []\n",
    "\n",
    "# Expressão regular para dividir as frases\n",
    "import re\n",
    "regex = re.compile(r'(?<!\\w\\.\\w.)(?<![A-Z][a-z]\\.)(?<=\\.|\\?|!)\\s')\n",
    "\n",
    "# Processar cada sentença\n",
    "for sentenca in sentencas:\n",
    "    if \": \" in sentenca:\n",
    "        orador, texto = sentenca.split(\": \", 1)\n",
    "        # Dividir as frases pelo ponto final, exclamação ou interrogação\n",
    "        frases_texto = regex.split(texto)\n",
    "        for frase in frases_texto:\n",
    "            frase = frase.strip()\n",
    "            if frase:\n",
    "                oradores.append(orador.strip())\n",
    "                frases.append(frase)\n",
    "\n",
    "# Criar o DataFrame\n",
    "import pandas as pd\n",
    "result = pd.DataFrame({\n",
    "    'orador': oradores,\n",
    "    'sentenca': frases\n",
    "})\n",
    "\n",
    "# Exibir o DataFrame\n",
    "print(result)"
   ]
  },
  {
   "cell_type": "code",
   "execution_count": 171,
   "metadata": {},
   "outputs": [
    {
     "name": "stdout",
     "output_type": "stream",
     "text": [
      "Accuracy: 1.0\n",
      "Precision: 1.0\n",
      "Recall: 1.0\n",
      "F1 Score: 1.0\n"
     ]
    }
   ],
   "source": [
    "from sklearn.metrics import precision_score, recall_score, accuracy_score, f1_score\n",
    "import pandas as pd\n",
    "\n",
    "\n",
    "result_sentences = result['sentenca'].tolist()\n",
    "real_sentences = treal['sentenca'].tolist()\n",
    "\n",
    "# Calculate accuracy\n",
    "accuracy = accuracy_score(result['orador'], treal['orador'])\n",
    "\n",
    "# Calculate precision and recall for each class\n",
    "precision = precision_score(result['orador'], treal['orador'], average='weighted')\n",
    "recall = recall_score(result['orador'], treal['orador'], average='weighted')\n",
    "f1 = f1_score(result['orador'], treal['orador'], average='weighted')\n",
    "\n",
    "print(\"Accuracy:\", accuracy)\n",
    "print(\"Precision:\", precision)\n",
    "print(\"Recall:\", recall)\n",
    "print(\"F1 Score:\", f1)\n"
   ]
  },
  {
   "cell_type": "markdown",
   "metadata": {},
   "source": [
    "## Ajustando a Transcrição - Palavra"
   ]
  },
  {
   "cell_type": "code",
   "execution_count": 208,
   "metadata": {},
   "outputs": [],
   "source": [
    "transcricao_real = open(path + join + \"/transcricao_real.txt\", \"r\", encoding=\"utf8\").read()\n",
    "resultado = open(path + join + \"/resultado.txt\", \"r\", encoding=\"utf8\").read()"
   ]
  },
  {
   "cell_type": "code",
   "execution_count": 209,
   "metadata": {},
   "outputs": [
    {
     "name": "stdout",
     "output_type": "stream",
     "text": [
      "       orador      sentenca\n",
      "0    Orador 2   Parlamento,\n",
      "1    Orador 2             a\n",
      "2    Orador 2         nossa\n",
      "3    Orador 2          casa\n",
      "4    Orador 2             e\n",
      "..        ...           ...\n",
      "580  Orador 3            do\n",
      "581  Orador 3          dia,\n",
      "582  Orador 3           que\n",
      "583  Orador 3           por\n",
      "584  Orador 3  gentileza...\n",
      "\n",
      "[585 rows x 2 columns]\n"
     ]
    }
   ],
   "source": [
    "sentencas = transcricao_real.split(\" / \")\n",
    "\n",
    "# Inicializar listas para os oradores e as sentenças\n",
    "oradores = []\n",
    "frases = []\n",
    "\n",
    "# Expressão regular para dividir as frases\n",
    "import re\n",
    "regex = re.compile(r' ')\n",
    "\n",
    "# Processar cada sentença\n",
    "for sentenca in sentencas:\n",
    "    if \": \" in sentenca:\n",
    "        orador, texto = sentenca.split(\": \", 1)\n",
    "        # Dividir as frases pelo ponto final, exclamação ou interrogação\n",
    "        frases_texto = regex.split(texto)\n",
    "        for frase in frases_texto:\n",
    "            frase = frase.strip()\n",
    "            if frase:\n",
    "                oradores.append(orador.strip())\n",
    "                frases.append(frase)\n",
    "\n",
    "# Criar o DataFrame\n",
    "import pandas as pd\n",
    "treal = pd.DataFrame({\n",
    "    'orador': oradores,\n",
    "    'sentenca': frases\n",
    "})\n",
    "\n",
    "# Exibir o DataFrame\n",
    "print(treal)"
   ]
  },
  {
   "cell_type": "code",
   "execution_count": 210,
   "metadata": {},
   "outputs": [
    {
     "name": "stdout",
     "output_type": "stream",
     "text": [
      "       orador      sentenca\n",
      "0    Orador 2   Parlamento,\n",
      "1    Orador 2             a\n",
      "2    Orador 2         nossa\n",
      "3    Orador 2          casa\n",
      "4    Orador 2             e\n",
      "..        ...           ...\n",
      "580  Orador 3            do\n",
      "581  Orador 3          dia,\n",
      "582  Orador 3           que\n",
      "583  Orador 3           por\n",
      "584  Orador 3  gentileza...\n",
      "\n",
      "[585 rows x 2 columns]\n"
     ]
    }
   ],
   "source": [
    "sentencas = resultado.split(\" / \")\n",
    "\n",
    "# Inicializar listas para os oradores e as sentenças\n",
    "oradores = []\n",
    "frases = []\n",
    "\n",
    "# Expressão regular para dividir as frases\n",
    "import re\n",
    "regex = re.compile(r' ')\n",
    "\n",
    "# Processar cada sentença\n",
    "for sentenca in sentencas:\n",
    "    if \": \" in sentenca:\n",
    "        orador, texto = sentenca.split(\": \", 1)\n",
    "        # Dividir as frases pelo ponto final, exclamação ou interrogação\n",
    "        frases_texto = regex.split(texto)\n",
    "        for frase in frases_texto:\n",
    "            frase = frase.strip()\n",
    "            if frase:\n",
    "                oradores.append(orador.strip())\n",
    "                frases.append(frase)\n",
    "\n",
    "# Criar o DataFrame\n",
    "import pandas as pd\n",
    "result = pd.DataFrame({\n",
    "    'orador': oradores,\n",
    "    'sentenca': frases\n",
    "})\n",
    "\n",
    "# Exibir o DataFrame\n",
    "print(result)"
   ]
  },
  {
   "cell_type": "code",
   "execution_count": 211,
   "metadata": {},
   "outputs": [
    {
     "name": "stdout",
     "output_type": "stream",
     "text": [
      "Accuracy: 1.0\n",
      "Precision: 1.0\n",
      "Recall: 1.0\n",
      "F1 Score: 1.0\n"
     ]
    }
   ],
   "source": [
    "from sklearn.metrics import precision_score, recall_score, accuracy_score, f1_score\n",
    "import pandas as pd\n",
    "\n",
    "\n",
    "result_sentences = result['sentenca'].tolist()\n",
    "real_sentences = treal['sentenca'].tolist()\n",
    "\n",
    "# Calculate accuracy\n",
    "accuracy = accuracy_score(result['orador'], treal['orador'])\n",
    "\n",
    "# Calculate precision and recall for each class\n",
    "precision = precision_score(result['orador'], treal['orador'], average='weighted')\n",
    "recall = recall_score(result['orador'], treal['orador'], average='weighted')\n",
    "f1 = f1_score(result['orador'], treal['orador'], average='weighted')\n",
    "\n",
    "print(\"Accuracy:\", accuracy)\n",
    "print(\"Precision:\", precision)\n",
    "print(\"Recall:\", recall)\n",
    "print(\"F1 Score:\", f1)\n"
   ]
  },
  {
   "cell_type": "markdown",
   "metadata": {},
   "source": [
    "# Diarização AssemblyAI"
   ]
  },
  {
   "cell_type": "code",
   "execution_count": 103,
   "metadata": {},
   "outputs": [
    {
     "name": "stdout",
     "output_type": "stream",
     "text": [
      "Speaker A: Esse parlamento, a nossa casa e vossa excelência que preside essa sessão dessa tarde. Muito obrigada pela participação.\n",
      "Speaker B: Deputada Antônia, eu quero parabenizar os visitantes e parabenizá-los por ter uma tão abençoada representante nessa casa como a deputada Antônia Lúcia, ok? Deputado, V. Exª pode formular a questão de ordem, por favor, colocando antes o artigo.\n",
      "Speaker C: Baseado na resolução 19 de 2021, artigo 4, Sr. Presidente, V. Exª, aliás, eu quero fazer um elogio a V. Exª, Deputado Gilberto Nascimento. Olha, não sei V. Exª é uma pessoa generosa, afável, conduz muito bem as sessões, inclusive os breves comunicados, e agora também na fase da ordem do dia. Eu quero até fazer aqui uma homenagem à V. Exª, que pacientemente ouve a todos, organiza os trabalhos e consegue fazer com que esta casa que tem oposição e governo e muitos independentes se entendam nos momentos mais difíceis. Portanto, a V. Exª, deputado Gilberto Nascimento, a minha homenagem. V. Exª tem conduzido muito bem as questões. E por ser V. Exª muito justo no trato com os colegas, sei que V. Exª também é muito justo no trato do regimento. Eu quero dizer a V. Exª que, independentemente da altercação à vida há pouco, É evidente, está claro, eu imagino que tanto para o governo como para a oposição, para todos que agem aqui com honestidade intelectual, que houve um equívoco da Secretaria-Geral da Mesa. Eu sou muito rápido em me inscrever, às vezes eu não consigo ser um dos primeiros. Às vezes eu fico em 15º, 20º, às vezes eu não... consigo nem atender a ligação da assessoria e leva alguns minutos e fico em centésimo na lista. Porém, hoje o Gustavo Gaier, deputado, estava no meu gabinete, fomos avisados pela assessoria e quando nos inscrevemos, imediatamente avisados, ficamos eu em 41º e ele em 42º na lista. Aconteceu hoje algo diferente dos outros dias? Não há questão sobre isso. A assessoria do Novo não foi avisada. Há um acordo em que a Secretaria Geral da Mesa, eu não sei como, porque eu não sou assessor e eu até elogiei a Secretaria Geral da Mesa e as assessorias por tão prontamente nos informarem, mas hoje isso não aconteceu. O regimento diz, por meio da resolução aprovada para a pandemia, que as sessões devem ser chamadas com 24 horas de antecedência. Isso já não tem acontecido há tempo e nós temos criticado isso. Agora hoje saiu a ordem do dia Quem soube, soube. Quem não soube, azar. E para piorar, Sr. Presidente, para concluir minha questão de ordem, eu queria pedir a Vossa Excelência, tão afável, generoso e justo que é, que na próxima oportunidade que se for aberta a ordem do dia, dê pelo menos um prazo humano, 10 minutos, quem sabe 15, para os deputados chegarem dos seus gabinetes ao plenário e poderem começar a votar. Estávamos em reunião de pauta, e se vossa Excelência, com a tolerância costumeira, me der mais 30 segundos, eu encerro minha questão de ordem. Estávamos em reunião de pauta na liderança do Novo, discutindo a pauta que saiu agora à tarde. E durante a reunião de pauta anunciaram ordem do dia iniciada. Cheguei com os bofs de fora, como se diz aqui. Nem soube que o deputado Hélder Salomão teve uma discussão anterior com o deputado Cabo Gilberto e, portanto, não pude estar preparado para adequadamente fazer uma manifestação. Peço a vossa excelência, com a afabilidade, generosidade e justiça de sempre, que da próxima vez que se abra a ordem do dia, que por gentileza.\n"
     ]
    }
   ],
   "source": [
    "# Start by making sure the `assemblyai` package is installed.\n",
    "# If not, you can install it by running the following command:\n",
    "# pip install -U assemblyai\n",
    "#\n",
    "# Note: Some macOS users may need to use `pip3` instead of `pip`.\n",
    "\n",
    "import assemblyai as aai\n",
    "\n",
    "# Replace with your API key\n",
    "aai.settings.api_key = 123 ##adicionar a key\n",
    "\n",
    "# URL of the file to transcribe\n",
    "FILE_URL = output_audio_path\n",
    "\n",
    "config = aai.TranscriptionConfig(speaker_labels=True,\n",
    "                                 language_code=\"pt\")\n",
    "\n",
    "transcriber = aai.Transcriber()\n",
    "transcript = transcriber.transcribe(\n",
    "  FILE_URL,\n",
    "  config=config\n",
    ")\n",
    "\n",
    "for utterance in transcript.utterances:\n",
    "  print(f\"Speaker {utterance.speaker}: {utterance.text}\")"
   ]
  },
  {
   "cell_type": "markdown",
   "metadata": {},
   "source": [
    "## Ajustando a Transcrição - Sentença"
   ]
  },
  {
   "cell_type": "code",
   "execution_count": 104,
   "metadata": {},
   "outputs": [],
   "source": [
    "path = os.path.abspath(\"\")\n",
    "path = path.replace(\"\\\\\", \"/\")\n",
    "transcricao_real = open(path + \"/assembly/dataset8/real_transcription.txt\", \"r\", encoding=\"utf8\").read()\n",
    "resultado = open(path + \"/assembly/dataset8/predicted_transcription.txt\", \"r\", encoding=\"utf8\").read()"
   ]
  },
  {
   "cell_type": "code",
   "execution_count": 105,
   "metadata": {},
   "outputs": [
    {
     "name": "stdout",
     "output_type": "stream",
     "text": [
      "      orador                                           sentenca\n",
      "0   Orador 1  Esse parlamento, a nossa casa e vossa excelênc...\n",
      "1   Orador 1                  Muito obrigada pela participação.\n",
      "2   Orador 2  Deputada Antônia, eu quero parabenizar os visi...\n",
      "3   Orador 2                                       Deputado, V.\n",
      "4   Orador 2  Exª pode formular a questão de ordem, por favo...\n",
      "5   Orador 3  Baseado na resolução 19 de 2021, artigo 4, Sr....\n",
      "6   Orador 3          Exª, aliás, eu quero fazer um elogio a V.\n",
      "7   Orador 3                 Exª, Deputado Gilberto Nascimento.\n",
      "8   Orador 3                                   Olha, não sei V.\n",
      "9   Orador 3  Exª é uma pessoa generosa, afável, conduz muit...\n",
      "10  Orador 3         Eu quero até fazer aqui uma homenagem à V.\n",
      "11  Orador 3  Exª, que pacientemente ouve a todos, organiza ...\n",
      "12  Orador 3                                     Portanto, a V.\n",
      "13  Orador 3  Exª, deputado Gilberto Nascimento, a minha hom...\n",
      "14  Orador 3                                                 V.\n",
      "15  Orador 3           Exª tem conduzido muito bem as questões.\n",
      "16  Orador 3                                       E por ser V.\n",
      "17  Orador 3  Exª muito justo no trato com os colegas, sei q...\n",
      "18  Orador 3    Exª também é muito justo no trato do regimento.\n",
      "19  Orador 3                                Eu quero dizer a V.\n",
      "20  Orador 3  Exª que, independentemente da altercação à vid...\n",
      "21  Orador 3  Eu sou muito rápido em me inscrever, às vezes ...\n",
      "22  Orador 3   Às vezes eu fico em 15º, 20º, às vezes eu não...\n",
      "23  Orador 3  consigo nem atender a ligação da assessoria e ...\n",
      "24  Orador 3  Porém, hoje o Gustavo Gaier, deputado, estava ...\n",
      "25  Orador 3     Aconteceu hoje algo diferente dos outros dias?\n",
      "26  Orador 3                         Não há questão sobre isso.\n",
      "27  Orador 3              A assessoria do Novo não foi avisada.\n",
      "28  Orador 3  Há um acordo em que a Secretaria Geral da Mesa...\n",
      "29  Orador 3  O regimento diz, por meio da resolução aprovad...\n",
      "30  Orador 3  Isso já não tem acontecido há tempo e nós temo...\n",
      "31  Orador 3  Agora hoje saiu a ordem do dia Quem soube, soube.\n",
      "32  Orador 3                              Quem não soube, azar.\n",
      "33  Orador 3  E para piorar, Sr. Presidente, para concluir m...\n",
      "34  Orador 3  Estávamos em reunião de pauta, e se vossa Exce...\n",
      "35  Orador 3  Estávamos em reunião de pauta na liderança do ...\n",
      "36  Orador 3  E durante a reunião de pauta anunciaram ordem ...\n",
      "37  Orador 3     Cheguei com os bofs de fora, como se diz aqui.\n",
      "38  Orador 3  Nem soube que o deputado Hélder Salomão teve u...\n",
      "39  Orador 3  Peço a vossa excelência, com a afabilidade, ge...\n"
     ]
    }
   ],
   "source": [
    "sentencas = transcricao_real.split(\" / \")\n",
    "\n",
    "# Inicializar listas para os oradores e as sentenças\n",
    "oradores = []\n",
    "frases = []\n",
    "\n",
    "# Expressão regular para dividir as frases\n",
    "import re\n",
    "regex = re.compile(r'(?<!\\w\\.\\w.)(?<![A-Z][a-z]\\.)(?<=\\.|\\?|!)\\s')\n",
    "\n",
    "# Processar cada sentença\n",
    "for sentenca in sentencas:\n",
    "    if \": \" in sentenca:\n",
    "        orador, texto = sentenca.split(\": \", 1)\n",
    "        # Dividir as frases pelo ponto final, exclamação ou interrogação\n",
    "        frases_texto = regex.split(texto)\n",
    "        for frase in frases_texto:\n",
    "            frase = frase.strip()\n",
    "            if frase:\n",
    "                oradores.append(orador.strip())\n",
    "                frases.append(frase)\n",
    "\n",
    "# Criar o DataFrame\n",
    "import pandas as pd\n",
    "treal = pd.DataFrame({\n",
    "    'orador': oradores,\n",
    "    'sentenca': frases\n",
    "})\n",
    "\n",
    "# Exibir o DataFrame\n",
    "print(treal)"
   ]
  },
  {
   "cell_type": "code",
   "execution_count": 106,
   "metadata": {},
   "outputs": [
    {
     "name": "stdout",
     "output_type": "stream",
     "text": [
      "      orador                                           sentenca\n",
      "0   Orador 1  Esse parlamento, a nossa casa e vossa excelênc...\n",
      "1   Orador 1                  Muito obrigada pela participação.\n",
      "2   Orador 2  Deputada Antônia, eu quero parabenizar os visi...\n",
      "3   Orador 2                                       Deputado, V.\n",
      "4   Orador 2  Exª pode formular a questão de ordem, por favo...\n",
      "5   Orador 3  Baseado na resolução 19 de 2021, artigo 4, Sr....\n",
      "6   Orador 3          Exª, aliás, eu quero fazer um elogio a V.\n",
      "7   Orador 3                 Exª, Deputado Gilberto Nascimento.\n",
      "8   Orador 3                                   Olha, não sei V.\n",
      "9   Orador 3  Exª é uma pessoa generosa, afável, conduz muit...\n",
      "10  Orador 3         Eu quero até fazer aqui uma homenagem à V.\n",
      "11  Orador 3  Exª, que pacientemente ouve a todos, organiza ...\n",
      "12  Orador 3                                     Portanto, a V.\n",
      "13  Orador 3  Exª, deputado Gilberto Nascimento, a minha hom...\n",
      "14  Orador 3                                                 V.\n",
      "15  Orador 3           Exª tem conduzido muito bem as questões.\n",
      "16  Orador 3                                       E por ser V.\n",
      "17  Orador 3  Exª muito justo no trato com os colegas, sei q...\n",
      "18  Orador 3    Exª também é muito justo no trato do regimento.\n",
      "19  Orador 3                                Eu quero dizer a V.\n",
      "20  Orador 3  Exª que, independentemente da altercação à vid...\n",
      "21  Orador 3  Eu sou muito rápido em me inscrever, às vezes ...\n",
      "22  Orador 3   Às vezes eu fico em 15º, 20º, às vezes eu não...\n",
      "23  Orador 3  consigo nem atender a ligação da assessoria e ...\n",
      "24  Orador 3  Porém, hoje o Gustavo Gaier, deputado, estava ...\n",
      "25  Orador 3     Aconteceu hoje algo diferente dos outros dias?\n",
      "26  Orador 3                         Não há questão sobre isso.\n",
      "27  Orador 3              A assessoria do Novo não foi avisada.\n",
      "28  Orador 3  Há um acordo em que a Secretaria Geral da Mesa...\n",
      "29  Orador 3  O regimento diz, por meio da resolução aprovad...\n",
      "30  Orador 3  Isso já não tem acontecido há tempo e nós temo...\n",
      "31  Orador 3  Agora hoje saiu a ordem do dia Quem soube, soube.\n",
      "32  Orador 3                              Quem não soube, azar.\n",
      "33  Orador 3  E para piorar, Sr. Presidente, para concluir m...\n",
      "34  Orador 3  Estávamos em reunião de pauta, e se vossa Exce...\n",
      "35  Orador 3  Estávamos em reunião de pauta na liderança do ...\n",
      "36  Orador 3  E durante a reunião de pauta anunciaram ordem ...\n",
      "37  Orador 3     Cheguei com os bofs de fora, como se diz aqui.\n",
      "38  Orador 3  Nem soube que o deputado Hélder Salomão teve u...\n",
      "39  Orador 3  Peço a vossa excelência, com a afabilidade, ge...\n"
     ]
    }
   ],
   "source": [
    "sentencas = resultado.split(\" / \")\n",
    "\n",
    "# Inicializar listas para os oradores e as sentenças\n",
    "oradores = []\n",
    "frases = []\n",
    "\n",
    "# Expressão regular para dividir as frases\n",
    "import re\n",
    "regex = re.compile(r'(?<!\\w\\.\\w.)(?<![A-Z][a-z]\\.)(?<=\\.|\\?|!)\\s')\n",
    "\n",
    "# Processar cada sentença\n",
    "for sentenca in sentencas:\n",
    "    if \": \" in sentenca:\n",
    "        orador, texto = sentenca.split(\": \", 1)\n",
    "        # Dividir as frases pelo ponto final, exclamação ou interrogação\n",
    "        frases_texto = regex.split(texto)\n",
    "        for frase in frases_texto:\n",
    "            frase = frase.strip()\n",
    "            if frase:\n",
    "                oradores.append(orador.strip())\n",
    "                frases.append(frase)\n",
    "\n",
    "# Criar o DataFrame\n",
    "import pandas as pd\n",
    "result = pd.DataFrame({\n",
    "    'orador': oradores,\n",
    "    'sentenca': frases\n",
    "})\n",
    "\n",
    "# Exibir o DataFrame\n",
    "print(result)"
   ]
  },
  {
   "cell_type": "code",
   "execution_count": 107,
   "metadata": {},
   "outputs": [
    {
     "name": "stdout",
     "output_type": "stream",
     "text": [
      "Accuracy: 1.0\n",
      "Precision: 1.0\n",
      "Recall: 1.0\n",
      "F1 Score: 1.0\n"
     ]
    }
   ],
   "source": [
    "from sklearn.metrics import precision_score, recall_score, accuracy_score, f1_score\n",
    "import pandas as pd\n",
    "\n",
    "\n",
    "result_sentences = result['sentenca'].tolist()\n",
    "real_sentences = treal['sentenca'].tolist()\n",
    "\n",
    "# Calculate accuracy\n",
    "accuracy = accuracy_score(result['orador'], treal['orador'])\n",
    "\n",
    "# Calculate precision and recall for each class\n",
    "precision = precision_score(result['orador'], treal['orador'], average='weighted')\n",
    "recall = recall_score(result['orador'], treal['orador'], average='weighted')\n",
    "f1 = f1_score(result['orador'], treal['orador'], average='weighted')\n",
    "\n",
    "print(\"Accuracy:\", accuracy)\n",
    "print(\"Precision:\", precision)\n",
    "print(\"Recall:\", recall)\n",
    "print(\"F1 Score:\", f1)\n"
   ]
  },
  {
   "cell_type": "markdown",
   "metadata": {},
   "source": [
    "Rodando o código base para diarização da AssemblyAI"
   ]
  },
  {
   "cell_type": "markdown",
   "metadata": {},
   "source": [
    "## Ajustando a Transcrição - Palavra"
   ]
  },
  {
   "cell_type": "code",
   "execution_count": 97,
   "metadata": {},
   "outputs": [],
   "source": [
    "path = os.path.abspath(\"\")\n",
    "path = path.replace(\"\\\\\", \"/\")\n",
    "transcricao_real = open(path + \"/assembly/dataset7/real_transcription.txt\", \"r\", encoding=\"utf8\").read()\n",
    "resultado = open(path + \"/assembly/dataset7/predicted_transcription.txt\", \"r\", encoding=\"utf8\").read()"
   ]
  },
  {
   "cell_type": "code",
   "execution_count": 98,
   "metadata": {},
   "outputs": [
    {
     "name": "stdout",
     "output_type": "stream",
     "text": [
      "       orador       sentenca\n",
      "0    Orador 1  Especialmente\n",
      "1    Orador 1             os\n",
      "2    Orador 1   empresários,\n",
      "3    Orador 1        aqueles\n",
      "4    Orador 1            que\n",
      "..        ...            ...\n",
      "427  Orador 4            com\n",
      "428  Orador 4           esse\n",
      "429  Orador 4   entendimento\n",
      "430  Orador 4         porque\n",
      "431  Orador 4           ele.\n",
      "\n",
      "[432 rows x 2 columns]\n"
     ]
    }
   ],
   "source": [
    "sentencas = transcricao_real.split(\" / \")\n",
    "\n",
    "# Inicializar listas para os oradores e as sentenças\n",
    "oradores = []\n",
    "frases = []\n",
    "\n",
    "# Expressão regular para dividir as frases\n",
    "import re\n",
    "regex = re.compile(r' ')\n",
    "\n",
    "# Processar cada sentença\n",
    "for sentenca in sentencas:\n",
    "    if \": \" in sentenca:\n",
    "        orador, texto = sentenca.split(\": \", 1)\n",
    "        # Dividir as frases pelo ponto final, exclamação ou interrogação\n",
    "        frases_texto = regex.split(texto)\n",
    "        for frase in frases_texto:\n",
    "            frase = frase.strip()\n",
    "            if frase:\n",
    "                oradores.append(orador.strip())\n",
    "                frases.append(frase)\n",
    "\n",
    "# Criar o DataFrame\n",
    "import pandas as pd\n",
    "treal = pd.DataFrame({\n",
    "    'orador': oradores,\n",
    "    'sentenca': frases\n",
    "})\n",
    "\n",
    "# Exibir o DataFrame\n",
    "print(treal)"
   ]
  },
  {
   "cell_type": "code",
   "execution_count": 99,
   "metadata": {},
   "outputs": [
    {
     "name": "stdout",
     "output_type": "stream",
     "text": [
      "       orador       sentenca\n",
      "0    Orador 1  Especialmente\n",
      "1    Orador 1             os\n",
      "2    Orador 1   empresários,\n",
      "3    Orador 1        aqueles\n",
      "4    Orador 1            que\n",
      "..        ...            ...\n",
      "427  Orador 4            com\n",
      "428  Orador 4           esse\n",
      "429  Orador 4   entendimento\n",
      "430  Orador 4         porque\n",
      "431  Orador 4           ele.\n",
      "\n",
      "[432 rows x 2 columns]\n"
     ]
    }
   ],
   "source": [
    "sentencas = resultado.split(\" / \")\n",
    "\n",
    "# Inicializar listas para os oradores e as sentenças\n",
    "oradores = []\n",
    "frases = []\n",
    "\n",
    "# Expressão regular para dividir as frases\n",
    "import re\n",
    "regex = re.compile(r' ')\n",
    "\n",
    "# Processar cada sentença\n",
    "for sentenca in sentencas:\n",
    "    if \": \" in sentenca:\n",
    "        orador, texto = sentenca.split(\": \", 1)\n",
    "        # Dividir as frases pelo ponto final, exclamação ou interrogação\n",
    "        frases_texto = regex.split(texto)\n",
    "        for frase in frases_texto:\n",
    "            frase = frase.strip()\n",
    "            if frase:\n",
    "                oradores.append(orador.strip())\n",
    "                frases.append(frase)\n",
    "\n",
    "# Criar o DataFrame\n",
    "import pandas as pd\n",
    "result = pd.DataFrame({\n",
    "    'orador': oradores,\n",
    "    'sentenca': frases\n",
    "})\n",
    "\n",
    "# Exibir o DataFrame\n",
    "print(result)"
   ]
  },
  {
   "cell_type": "code",
   "execution_count": 100,
   "metadata": {},
   "outputs": [
    {
     "name": "stdout",
     "output_type": "stream",
     "text": [
      "Accuracy: 0.9652777777777778\n",
      "Precision: 0.9756235827664399\n",
      "Recall: 0.9652777777777778\n",
      "F1 Score: 0.96919810468969\n"
     ]
    }
   ],
   "source": [
    "from sklearn.metrics import precision_score, recall_score, accuracy_score, f1_score\n",
    "import pandas as pd\n",
    "\n",
    "\n",
    "result_sentences = result['sentenca'].tolist()\n",
    "real_sentences = treal['sentenca'].tolist()\n",
    "\n",
    "# Calculate accuracy\n",
    "accuracy = accuracy_score(result['orador'], treal['orador'])\n",
    "\n",
    "# Calculate precision and recall for each class\n",
    "precision = precision_score(result['orador'], treal['orador'], average='weighted')\n",
    "recall = recall_score(result['orador'], treal['orador'], average='weighted')\n",
    "f1 = f1_score(result['orador'], treal['orador'], average='weighted')\n",
    "\n",
    "print(\"Accuracy:\", accuracy)\n",
    "print(\"Precision:\", precision)\n",
    "print(\"Recall:\", recall)\n",
    "print(\"F1 Score:\", f1)\n"
   ]
  },
  {
   "cell_type": "markdown",
   "metadata": {},
   "source": [
    "# Oracle"
   ]
  },
  {
   "cell_type": "code",
   "execution_count": 112,
   "metadata": {},
   "outputs": [
    {
     "name": "stdout",
     "output_type": "stream",
     "text": [
      "c:/Users/anton/Videos/boll/boll/diarizacao_artigo/diarizacao\n"
     ]
    }
   ],
   "source": [
    "path = os.path.abspath(\"\")\n",
    "\n",
    "path = path.replace(\"\\\\\", \"/\")\n",
    "print(path)"
   ]
  },
  {
   "cell_type": "code",
   "execution_count": 191,
   "metadata": {},
   "outputs": [
    {
     "name": "stdout",
     "output_type": "stream",
     "text": [
      "Orador 0: parlamento, a nossa casa e vossa excelência que preside esta sessão nesta tarde. Muito obrigada pela participação. Ok, deputada Antônia, eu quero parabenizar os visitantes e parabenizar-os por ter uma tão abençoada representante nesta casa como a deputada Antônia Lúcia, ok? Deputado, a vossa excelência pode formular a questão de ordem, por favor, colocando antes o artigo. Baseado na Resolução 19 de 2021, o artigo 4º, seu presidente. Vossa excelência, aliás, eu quero fazer um elogio à vossa excelência, deputado Gilberto Nascimento. Olha, não sei... Vossa excelência é uma pessoa generosa, A Fável conduz muito bem as sessões, inclusive os breves comunicados e agora também na fase da Hora do Dia. Eu quero até fazer aqui uma homenagem à Vossa Excellência que, pacientemente, ouve a todos, organiza os trabalhos e consegue fazer com que essa casa que tem oposição e governo e muitos independentes se entendam nos momentos mais difíceis. Portanto, a vossa excelência, deputado Gilberto Nascimento, a minha homenagem. Vossa excelência tem conduzido muito bem as questões. E por ser vossa excelência, muito justo no trato com os colegas, sei que vossa excelência também é muito justo no trato do regimento. Eu quero dizer à vossa excelência que, independentemente da altercação à vida a pouco, é evidente, está claro, eu imagino que tanto para o governo como para a oposição, para todos que agem aqui com honestidade intelectual, que houve um equívoco da Secretaria-Geral da Mesa. Eu sou muito rápido em me inscrever, às vezes eu não consigo ser um dos primeiros. Às vezes eu fico em 15, 20, às vezes eu não consigo nem atender a ligação da assessoria e levo alguns minutos e fico em centésimo na lista. Porém hoje o Gustavo Gaia, deputado, estava no meu gabinete, fomos avisados pela assessoria e quando nos inscrevemos, imediatamente avisados, ficamos eu em 41º e ele em 42º na lista. Aconteceu hoje algo diferente dos outros dias, não há questão sobre isso. A assessoria do novo não foi avisada. Há um acordo em que a Secretaria-Geral da Mesa, eu não sei como, porque eu não sou assessor e eu até elogi a Secretaria-Geral da Mesa, as assessorias, por tão prontamente nos informarem, mas hoje isso não aconteceu. O regimento diz, por meio da resolução aprovada para a pandemia, que as sessões devem ser chamadas com 24 horas de antecedência. Isso já não tem acontecido há tempo e nós temos criticado isso. Agora hoje, Saiu a ordem do dia. Quem soube, soube. Quem não soube, azar. E para piorar, senhor presidente, para concluir minha questão de ordem, eu queria pedir a vossa excelência tão afável, generoso e justo que é, que na próxima oportunidade que se for aberta a ordem do dia, dê pelo menos um prazo humano, 10 minutos, quem sabe 15, para os deputados chegarem dos seus gabinetes ao plenário e poderem começar a votar. Estávamos em reunião de pauta e se vossa excelência com a tolerância costumeira me der mais 30 segundos, eu encerro a minha questão de ordem. Estávamos em reunião de pauta na liderança do novo, discutindo a pauta que saiu agora à tarde. E durante a reunião de pauta anunciaram ordem de iniciada. Cheguei com os bofes de fora, como se diz aqui. Nem soube que o deputado Élder Salomão teve uma discussão anterior com o deputado Cabo Gilberto e, portanto, não pude estar preparado para adequadamente fazer uma manifestação. Peço a vossa excelência a afabilidade, generosidade e injustiça de sempre, que da próxima vez que se abra a ordem /\n"
     ]
    }
   ],
   "source": [
    "# Carregar o arquivo JSON\n",
    "with open('oracle/dataset8/oracle.json', 'r', encoding='utf-8') as file:\n",
    "    dados_json = json.load(file)\n",
    "\n",
    "# Extrair tokens\n",
    "tokens = dados_json['transcriptions'][0]['tokens']\n",
    "\n",
    "# Lista para armazenar as falas formatadas na ordem correta\n",
    "formatted_falas = []\n",
    "\n",
    "# Variável para armazenar a fala atual e o índice do orador atual\n",
    "current_speech = []\n",
    "current_speaker = None\n",
    "\n",
    "# Iterar sobre os tokens para manter a linha do tempo\n",
    "for token in tokens:\n",
    "    orador = token['speakerIndex']\n",
    "    palavra = token['token']\n",
    "\n",
    "    if orador != current_speaker:\n",
    "        # Se o orador mudou, salvar a fala anterior\n",
    "        if current_speech:\n",
    "            formatted_falas.append(f\"Orador {current_speaker}: {' '.join(current_speech)} /\")\n",
    "        # Resetar a fala atual e atualizar o orador\n",
    "        current_speech = [palavra]\n",
    "        current_speaker = orador\n",
    "    else:\n",
    "        # Adicionar a palavra à fala atual\n",
    "        current_speech.append(palavra)\n",
    "\n",
    "# Adicionar a última fala ao final da iteração\n",
    "if current_speech:\n",
    "    formatted_falas.append(f\"Orador {current_speaker}: {' '.join(current_speech)} /\")\n",
    "\n",
    "# Unir todas as falas formatadas em uma única string\n",
    "dados_formatados = '\\n'.join(formatted_falas)\n",
    "\n",
    "print(dados_formatados)"
   ]
  },
  {
   "cell_type": "markdown",
   "metadata": {},
   "source": [
    "## Ajustando a Transcrição - Sentença"
   ]
  },
  {
   "cell_type": "code",
   "execution_count": 192,
   "metadata": {},
   "outputs": [],
   "source": [
    "transcricao_real = open(path + \"/oracle/dataset8/transcricao_real.txt\", \"r\", encoding=\"utf8\").read()\n",
    "resultado = open(path + \"/oracle/dataset8/transcricao_predita.txt\", \"r\", encoding=\"utf8\").read()"
   ]
  },
  {
   "cell_type": "code",
   "execution_count": 195,
   "metadata": {},
   "outputs": [
    {
     "name": "stdout",
     "output_type": "stream",
     "text": [
      "      orador                                           sentenca\n",
      "0   Orador 0  parlamento, a nossa casa e vossa excelência qu...\n",
      "1   Orador 0                  Muito obrigada pela participação.\n",
      "2   Orador 1  Ok, deputada Antônia, eu quero parabenizar os ...\n",
      "3   Orador 1  Deputado, a vossa excelência pode formular a q...\n",
      "4   Orador 2  Baseado na Resolução 19 de 2021, o artigo 4º, ...\n",
      "5   Orador 2  Vossa excelência, aliás, eu quero fazer um elo...\n",
      "6   Orador 2                                   Olha, não sei...\n",
      "7   Orador 2  Vossa excelência é uma pessoa generosa, A Fáve...\n",
      "8   Orador 2  Eu quero até fazer aqui uma homenagem à Vossa ...\n",
      "9   Orador 2  Portanto, a vossa excelência, deputado Gilbert...\n",
      "10  Orador 2  Vossa excelência tem conduzido muito bem as qu...\n",
      "11  Orador 2  E por ser vossa excelência, muito justo no tra...\n",
      "12  Orador 2  Eu quero dizer à vossa excelência que, indepen...\n",
      "13  Orador 2  Eu sou muito rápido em me inscrever, às vezes ...\n",
      "14  Orador 2  Às vezes eu fico em 15, 20, às vezes eu não co...\n",
      "15  Orador 2  Porém hoje o Gustavo Gaia, deputado, estava no...\n",
      "16  Orador 2  Aconteceu hoje algo diferente dos outros dias,...\n",
      "17  Orador 2              A assessoria do novo não foi avisada.\n",
      "18  Orador 2  Há um acordo em que a Secretaria-Geral da Mesa...\n",
      "19  Orador 2  O regimento diz, por meio da resolução aprovad...\n",
      "20  Orador 2  Isso já não tem acontecido há tempo e nós temo...\n",
      "21  Orador 2                   Agora hoje, Saiu a ordem do dia.\n",
      "22  Orador 2                                 Quem soube, soube.\n",
      "23  Orador 2                              Quem não soube, azar.\n",
      "24  Orador 2  E para piorar, senhor presidente, para conclui...\n",
      "25  Orador 2  Estávamos em reunião de pauta e se vossa excel...\n",
      "26  Orador 2  Estávamos em reunião de pauta na liderança do ...\n",
      "27  Orador 2  E durante a reunião de pauta anunciaram ordem ...\n",
      "28  Orador 2    Cheguei com os bofes de fora, como se diz aqui.\n",
      "29  Orador 2  Nem soube que o deputado Élder Salomão teve um...\n",
      "30  Orador 2  Peço a vossa excelência a afabilidade, generos...\n"
     ]
    }
   ],
   "source": [
    "sentencas = transcricao_real.split(\" / \")\n",
    "\n",
    "# Inicializar listas para os oradores e as sentenças\n",
    "oradores = []\n",
    "frases = []\n",
    "\n",
    "# Expressão regular para dividir as frases\n",
    "import re\n",
    "regex = re.compile(r'(?<!\\w\\.\\w.)(?<![A-Z][a-z]\\.)(?<=\\.|\\?|!)\\s')\n",
    "\n",
    "# Processar cada sentença\n",
    "for sentenca in sentencas:\n",
    "    if \": \" in sentenca:\n",
    "        orador, texto = sentenca.split(\": \", 1)\n",
    "        # Dividir as frases pelo ponto final, exclamação ou interrogação\n",
    "        frases_texto = regex.split(texto)\n",
    "        for frase in frases_texto:\n",
    "            frase = frase.strip()\n",
    "            if frase:\n",
    "                oradores.append(orador.strip())\n",
    "                frases.append(frase)\n",
    "\n",
    "# Criar o DataFrame\n",
    "import pandas as pd\n",
    "treal = pd.DataFrame({\n",
    "    'orador': oradores,\n",
    "    'sentenca': frases\n",
    "})\n",
    "\n",
    "# Exibir o DataFrame\n",
    "print(treal)"
   ]
  },
  {
   "cell_type": "code",
   "execution_count": 196,
   "metadata": {},
   "outputs": [
    {
     "name": "stdout",
     "output_type": "stream",
     "text": [
      "      orador                                           sentenca\n",
      "0   Orador 0  parlamento, a nossa casa e vossa excelência qu...\n",
      "1   Orador 0                  Muito obrigada pela participação.\n",
      "2   Orador 0  Ok, deputada Antônia, eu quero parabenizar os ...\n",
      "3   Orador 0  Deputado, a vossa excelência pode formular a q...\n",
      "4   Orador 0  Baseado na Resolução 19 de 2021, o artigo 4º, ...\n",
      "5   Orador 0  Vossa excelência, aliás, eu quero fazer um elo...\n",
      "6   Orador 0                                   Olha, não sei...\n",
      "7   Orador 0  Vossa excelência é uma pessoa generosa, A Fáve...\n",
      "8   Orador 0  Eu quero até fazer aqui uma homenagem à Vossa ...\n",
      "9   Orador 0  Portanto, a vossa excelência, deputado Gilbert...\n",
      "10  Orador 0  Vossa excelência tem conduzido muito bem as qu...\n",
      "11  Orador 0  E por ser vossa excelência, muito justo no tra...\n",
      "12  Orador 0  Eu quero dizer à vossa excelência que, indepen...\n",
      "13  Orador 0  Eu sou muito rápido em me inscrever, às vezes ...\n",
      "14  Orador 0  Às vezes eu fico em 15, 20, às vezes eu não co...\n",
      "15  Orador 0  Porém hoje o Gustavo Gaia, deputado, estava no...\n",
      "16  Orador 0  Aconteceu hoje algo diferente dos outros dias,...\n",
      "17  Orador 0              A assessoria do novo não foi avisada.\n",
      "18  Orador 0  Há um acordo em que a Secretaria-Geral da Mesa...\n",
      "19  Orador 0  O regimento diz, por meio da resolução aprovad...\n",
      "20  Orador 0  Isso já não tem acontecido há tempo e nós temo...\n",
      "21  Orador 0                   Agora hoje, Saiu a ordem do dia.\n",
      "22  Orador 0                                 Quem soube, soube.\n",
      "23  Orador 0                              Quem não soube, azar.\n",
      "24  Orador 0  E para piorar, senhor presidente, para conclui...\n",
      "25  Orador 0  Estávamos em reunião de pauta e se vossa excel...\n",
      "26  Orador 0  Estávamos em reunião de pauta na liderança do ...\n",
      "27  Orador 0  E durante a reunião de pauta anunciaram ordem ...\n",
      "28  Orador 0    Cheguei com os bofes de fora, como se diz aqui.\n",
      "29  Orador 0  Nem soube que o deputado Élder Salomão teve um...\n",
      "30  Orador 0  Peço a vossa excelência a afabilidade, generos...\n"
     ]
    }
   ],
   "source": [
    "sentencas = resultado.split(\" / \")\n",
    "\n",
    "# Inicializar listas para os oradores e as sentenças\n",
    "oradores = []\n",
    "frases = []\n",
    "\n",
    "# Expressão regular para dividir as frases\n",
    "import re\n",
    "regex = re.compile(r'(?<!\\w\\.\\w.)(?<![A-Z][a-z]\\.)(?<=\\.|\\?|!)\\s')\n",
    "\n",
    "# Processar cada sentença\n",
    "for sentenca in sentencas:\n",
    "    if \": \" in sentenca:\n",
    "        orador, texto = sentenca.split(\": \", 1)\n",
    "        # Dividir as frases pelo ponto final, exclamação ou interrogação\n",
    "        frases_texto = regex.split(texto)\n",
    "        for frase in frases_texto:\n",
    "            frase = frase.strip()\n",
    "            if frase:\n",
    "                oradores.append(orador.strip())\n",
    "                frases.append(frase)\n",
    "\n",
    "# Criar o DataFrame\n",
    "import pandas as pd\n",
    "result = pd.DataFrame({\n",
    "    'orador': oradores,\n",
    "    'sentenca': frases\n",
    "})\n",
    "\n",
    "# Exibir o DataFrame\n",
    "print(result)"
   ]
  },
  {
   "cell_type": "code",
   "execution_count": 197,
   "metadata": {},
   "outputs": [
    {
     "name": "stdout",
     "output_type": "stream",
     "text": [
      "Accuracy: 0.06451612903225806\n",
      "Precision: 1.0\n",
      "Recall: 0.06451612903225806\n",
      "F1 Score: 0.12121212121212122\n"
     ]
    }
   ],
   "source": [
    "from sklearn.metrics import precision_score, recall_score, accuracy_score, f1_score\n",
    "import pandas as pd\n",
    "\n",
    "\n",
    "result_sentences = result['sentenca'].tolist()\n",
    "real_sentences = treal['sentenca'].tolist()\n",
    "\n",
    "# Calculate accuracy\n",
    "accuracy = accuracy_score(result['orador'], treal['orador'])\n",
    "\n",
    "# Calculate precision and recall for each class\n",
    "precision = precision_score(result['orador'], treal['orador'], average='weighted')\n",
    "recall = recall_score(result['orador'], treal['orador'], average='weighted')\n",
    "f1 = f1_score(result['orador'], treal['orador'], average='weighted')\n",
    "\n",
    "print(\"Accuracy:\", accuracy)\n",
    "print(\"Precision:\", precision)\n",
    "print(\"Recall:\", recall)\n",
    "print(\"F1 Score:\", f1)\n"
   ]
  },
  {
   "cell_type": "markdown",
   "metadata": {},
   "source": [
    "## Ajustando a Transcrição - Palavra"
   ]
  },
  {
   "cell_type": "code",
   "execution_count": 198,
   "metadata": {},
   "outputs": [],
   "source": [
    "transcricao_real = open(path + \"/oracle/dataset8/transcricao_real.txt\", \"r\", encoding=\"utf8\").read()\n",
    "resultado = open(path + \"/oracle/dataset8/transcricao_predita.txt\", \"r\", encoding=\"utf8\").read()"
   ]
  },
  {
   "cell_type": "code",
   "execution_count": 199,
   "metadata": {},
   "outputs": [
    {
     "name": "stdout",
     "output_type": "stream",
     "text": [
      "       orador     sentenca\n",
      "0    Orador 0  parlamento,\n",
      "1    Orador 0            a\n",
      "2    Orador 0        nossa\n",
      "3    Orador 0         casa\n",
      "4    Orador 0            e\n",
      "..        ...          ...\n",
      "581  Orador 2          que\n",
      "582  Orador 2           se\n",
      "583  Orador 2         abra\n",
      "584  Orador 2            a\n",
      "585  Orador 2        ordem\n",
      "\n",
      "[586 rows x 2 columns]\n"
     ]
    }
   ],
   "source": [
    "sentencas = transcricao_real.split(\" / \")\n",
    "\n",
    "# Inicializar listas para os oradores e as sentenças\n",
    "oradores = []\n",
    "frases = []\n",
    "\n",
    "# Expressão regular para dividir as frases\n",
    "import re\n",
    "regex = re.compile(r' ')\n",
    "\n",
    "# Processar cada sentença\n",
    "for sentenca in sentencas:\n",
    "    if \": \" in sentenca:\n",
    "        orador, texto = sentenca.split(\": \", 1)\n",
    "        # Dividir as frases pelo ponto final, exclamação ou interrogação\n",
    "        frases_texto = regex.split(texto)\n",
    "        for frase in frases_texto:\n",
    "            frase = frase.strip()\n",
    "            if frase:\n",
    "                oradores.append(orador.strip())\n",
    "                frases.append(frase)\n",
    "\n",
    "# Criar o DataFrame\n",
    "import pandas as pd\n",
    "treal = pd.DataFrame({\n",
    "    'orador': oradores,\n",
    "    'sentenca': frases\n",
    "})\n",
    "\n",
    "# Exibir o DataFrame\n",
    "print(treal)"
   ]
  },
  {
   "cell_type": "code",
   "execution_count": 200,
   "metadata": {},
   "outputs": [
    {
     "name": "stdout",
     "output_type": "stream",
     "text": [
      "       orador     sentenca\n",
      "0    Orador 0  parlamento,\n",
      "1    Orador 0            a\n",
      "2    Orador 0        nossa\n",
      "3    Orador 0         casa\n",
      "4    Orador 0            e\n",
      "..        ...          ...\n",
      "581  Orador 0          que\n",
      "582  Orador 0           se\n",
      "583  Orador 0         abra\n",
      "584  Orador 0            a\n",
      "585  Orador 0        ordem\n",
      "\n",
      "[586 rows x 2 columns]\n"
     ]
    }
   ],
   "source": [
    "sentencas = resultado.split(\" / \")\n",
    "\n",
    "# Inicializar listas para os oradores e as sentenças\n",
    "oradores = []\n",
    "frases = []\n",
    "\n",
    "# Expressão regular para dividir as frases\n",
    "import re\n",
    "regex = re.compile(r' ')\n",
    "\n",
    "# Processar cada sentença\n",
    "for sentenca in sentencas:\n",
    "    if \": \" in sentenca:\n",
    "        orador, texto = sentenca.split(\": \", 1)\n",
    "        # Dividir as frases pelo ponto final, exclamação ou interrogação\n",
    "        frases_texto = regex.split(texto)\n",
    "        for frase in frases_texto:\n",
    "            frase = frase.strip()\n",
    "            if frase:\n",
    "                oradores.append(orador.strip())\n",
    "                frases.append(frase)\n",
    "\n",
    "# Criar o DataFrame\n",
    "import pandas as pd\n",
    "result = pd.DataFrame({\n",
    "    'orador': oradores,\n",
    "    'sentenca': frases\n",
    "})\n",
    "\n",
    "# Exibir o DataFrame\n",
    "print(result)"
   ]
  },
  {
   "cell_type": "code",
   "execution_count": 201,
   "metadata": {},
   "outputs": [
    {
     "name": "stdout",
     "output_type": "stream",
     "text": [
      "Accuracy: 0.02901023890784983\n",
      "Precision: 1.0\n",
      "Recall: 0.02901023890784983\n",
      "F1 Score: 0.05638474295190713\n"
     ]
    }
   ],
   "source": [
    "from sklearn.metrics import precision_score, recall_score, accuracy_score, f1_score\n",
    "import pandas as pd\n",
    "\n",
    "\n",
    "result_sentences = result['sentenca'].tolist()\n",
    "real_sentences = treal['sentenca'].tolist()\n",
    "\n",
    "# Calculate accuracy\n",
    "accuracy = accuracy_score(result['orador'], treal['orador'])\n",
    "\n",
    "# Calculate precision and recall for each class\n",
    "precision = precision_score(result['orador'], treal['orador'], average='weighted')\n",
    "recall = recall_score(result['orador'], treal['orador'], average='weighted')\n",
    "f1 = f1_score(result['orador'], treal['orador'], average='weighted')\n",
    "\n",
    "print(\"Accuracy:\", accuracy)\n",
    "print(\"Precision:\", precision)\n",
    "print(\"Recall:\", recall)\n",
    "print(\"F1 Score:\", f1)\n"
   ]
  }
 ],
 "metadata": {
  "kernelspec": {
   "display_name": "Python 3",
   "language": "python",
   "name": "python3"
  },
  "language_info": {
   "codemirror_mode": {
    "name": "ipython",
    "version": 3
   },
   "file_extension": ".py",
   "mimetype": "text/x-python",
   "name": "python",
   "nbconvert_exporter": "python",
   "pygments_lexer": "ipython3",
   "version": "3.11.9"
  }
 },
 "nbformat": 4,
 "nbformat_minor": 2
}
